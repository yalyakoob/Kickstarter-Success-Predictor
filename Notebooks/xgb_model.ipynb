{
 "cells": [
  {
   "cell_type": "code",
   "execution_count": 31,
   "id": "56350332",
   "metadata": {},
   "outputs": [],
   "source": [
    "import numpy as np \n",
    "import pandas as pd\n",
    "import matplotlib.pyplot as plt\n",
    "import seaborn as sns\n",
    "from scipy.stats import randint, uniform\n",
    "from sklearn.model_selection import train_test_split\n",
    "from sklearn.model_selection import GridSearchCV, RandomizedSearchCV\n",
    "from sklearn.pipeline import make_pipeline\n",
    "from sklearn.preprocessing import StandardScaler,MinMaxScaler\n",
    "from sklearn.metrics import accuracy_score, classification_report, confusion_matrix\n",
    "from sklearn.ensemble import RandomForestClassifier\n",
    "from sklearn.metrics import plot_roc_curve, roc_auc_score\n",
    "from sklearn.metrics import plot_confusion_matrix\n",
    "from sklearn.model_selection import RepeatedStratifiedKFold\n",
    "from xgboost import XGBClassifier\n",
    "from sklearn.inspection import permutation_importance\n",
    "from pdpbox.pdp import pdp_isolate, pdp_plot, pdp_interact, pdp_interact_plot\n",
    "import shap\n",
    "from sklearn.preprocessing import LabelEncoder\n",
    "pd.options.display.max_rows = 100"
   ]
  },
  {
   "cell_type": "code",
   "execution_count": 6,
   "id": "350aa836",
   "metadata": {},
   "outputs": [],
   "source": [
    "df = pd.read_csv('/Users/youssefalyakoob/Desktop/Kickstarter Project/Data/cleaned_data_v1.csv')"
   ]
  },
  {
   "cell_type": "code",
   "execution_count": 9,
   "id": "3e8e5331",
   "metadata": {},
   "outputs": [
    {
     "data": {
      "text/html": [
       "<div>\n",
       "<style scoped>\n",
       "    .dataframe tbody tr th:only-of-type {\n",
       "        vertical-align: middle;\n",
       "    }\n",
       "\n",
       "    .dataframe tbody tr th {\n",
       "        vertical-align: top;\n",
       "    }\n",
       "\n",
       "    .dataframe thead th {\n",
       "        text-align: right;\n",
       "    }\n",
       "</style>\n",
       "<table border=\"1\" class=\"dataframe\">\n",
       "  <thead>\n",
       "    <tr style=\"text-align: right;\">\n",
       "      <th></th>\n",
       "      <th>blurb</th>\n",
       "      <th>category</th>\n",
       "      <th>country</th>\n",
       "      <th>created_at</th>\n",
       "      <th>deadline</th>\n",
       "      <th>launched_at</th>\n",
       "      <th>state</th>\n",
       "      <th>goal_usd</th>\n",
       "      <th>sub_category</th>\n",
       "      <th>campaign_duration_in_days</th>\n",
       "    </tr>\n",
       "  </thead>\n",
       "  <tbody>\n",
       "    <tr>\n",
       "      <th>0</th>\n",
       "      <td>Create 200 frames as animated asymmetric tesse...</td>\n",
       "      <td>art</td>\n",
       "      <td>GB</td>\n",
       "      <td>2014-06-21 20:55:55</td>\n",
       "      <td>2014-07-25 19:03:18</td>\n",
       "      <td>2014-06-25 19:03:18</td>\n",
       "      <td>failed</td>\n",
       "      <td>3404.17</td>\n",
       "      <td>conceptual art</td>\n",
       "      <td>30</td>\n",
       "    </tr>\n",
       "    <tr>\n",
       "      <th>1</th>\n",
       "      <td>SixNip will be recording its debut album start...</td>\n",
       "      <td>music</td>\n",
       "      <td>US</td>\n",
       "      <td>2018-05-21 21:52:02</td>\n",
       "      <td>2018-07-05 00:59:52</td>\n",
       "      <td>2018-05-31 00:59:52</td>\n",
       "      <td>successful</td>\n",
       "      <td>420.00</td>\n",
       "      <td>rock</td>\n",
       "      <td>35</td>\n",
       "    </tr>\n",
       "    <tr>\n",
       "      <th>2</th>\n",
       "      <td>A body of work exploring the boundaries of the...</td>\n",
       "      <td>art</td>\n",
       "      <td>US</td>\n",
       "      <td>2012-02-08 06:57:40</td>\n",
       "      <td>2012-03-30 18:21:13</td>\n",
       "      <td>2012-03-05 19:21:13</td>\n",
       "      <td>successful</td>\n",
       "      <td>1600.00</td>\n",
       "      <td>conceptual art</td>\n",
       "      <td>25</td>\n",
       "    </tr>\n",
       "    <tr>\n",
       "      <th>3</th>\n",
       "      <td>Natural Organic Handmade Soap with Unique Design</td>\n",
       "      <td>crafts</td>\n",
       "      <td>US</td>\n",
       "      <td>2021-01-20 20:57:17</td>\n",
       "      <td>2021-02-25 10:00:00</td>\n",
       "      <td>2021-02-09 22:28:46</td>\n",
       "      <td>successful</td>\n",
       "      <td>3000.00</td>\n",
       "      <td>diy</td>\n",
       "      <td>15</td>\n",
       "    </tr>\n",
       "    <tr>\n",
       "      <th>4</th>\n",
       "      <td>Celebrating 25 years of Everette Hartsoe's RAZ...</td>\n",
       "      <td>comics</td>\n",
       "      <td>US</td>\n",
       "      <td>2015-11-29 21:50:28</td>\n",
       "      <td>2015-12-16 00:59:26</td>\n",
       "      <td>2015-12-04 00:59:26</td>\n",
       "      <td>successful</td>\n",
       "      <td>1.00</td>\n",
       "      <td>graphic novels</td>\n",
       "      <td>12</td>\n",
       "    </tr>\n",
       "  </tbody>\n",
       "</table>\n",
       "</div>"
      ],
      "text/plain": [
       "                                               blurb category country  \\\n",
       "0  Create 200 frames as animated asymmetric tesse...      art      GB   \n",
       "1  SixNip will be recording its debut album start...    music      US   \n",
       "2  A body of work exploring the boundaries of the...      art      US   \n",
       "3   Natural Organic Handmade Soap with Unique Design   crafts      US   \n",
       "4  Celebrating 25 years of Everette Hartsoe's RAZ...   comics      US   \n",
       "\n",
       "            created_at             deadline          launched_at       state  \\\n",
       "0  2014-06-21 20:55:55  2014-07-25 19:03:18  2014-06-25 19:03:18      failed   \n",
       "1  2018-05-21 21:52:02  2018-07-05 00:59:52  2018-05-31 00:59:52  successful   \n",
       "2  2012-02-08 06:57:40  2012-03-30 18:21:13  2012-03-05 19:21:13  successful   \n",
       "3  2021-01-20 20:57:17  2021-02-25 10:00:00  2021-02-09 22:28:46  successful   \n",
       "4  2015-11-29 21:50:28  2015-12-16 00:59:26  2015-12-04 00:59:26  successful   \n",
       "\n",
       "   goal_usd    sub_category  campaign_duration_in_days  \n",
       "0   3404.17  conceptual art                         30  \n",
       "1    420.00            rock                         35  \n",
       "2   1600.00  conceptual art                         25  \n",
       "3   3000.00             diy                         15  \n",
       "4      1.00  graphic novels                         12  "
      ]
     },
     "execution_count": 9,
     "metadata": {},
     "output_type": "execute_result"
    }
   ],
   "source": [
    "df.head()"
   ]
  },
  {
   "cell_type": "code",
   "execution_count": 10,
   "id": "1b31d555",
   "metadata": {},
   "outputs": [],
   "source": [
    "cols_to_drop = ['blurb', 'created_at', 'deadline', 'launched_at']\n",
    "df.drop(columns=cols_to_drop, inplace=True)"
   ]
  },
  {
   "cell_type": "code",
   "execution_count": 11,
   "id": "543eb3f5",
   "metadata": {},
   "outputs": [
    {
     "data": {
      "text/html": [
       "<div>\n",
       "<style scoped>\n",
       "    .dataframe tbody tr th:only-of-type {\n",
       "        vertical-align: middle;\n",
       "    }\n",
       "\n",
       "    .dataframe tbody tr th {\n",
       "        vertical-align: top;\n",
       "    }\n",
       "\n",
       "    .dataframe thead th {\n",
       "        text-align: right;\n",
       "    }\n",
       "</style>\n",
       "<table border=\"1\" class=\"dataframe\">\n",
       "  <thead>\n",
       "    <tr style=\"text-align: right;\">\n",
       "      <th></th>\n",
       "      <th>category</th>\n",
       "      <th>country</th>\n",
       "      <th>state</th>\n",
       "      <th>goal_usd</th>\n",
       "      <th>sub_category</th>\n",
       "      <th>campaign_duration_in_days</th>\n",
       "    </tr>\n",
       "  </thead>\n",
       "  <tbody>\n",
       "    <tr>\n",
       "      <th>0</th>\n",
       "      <td>art</td>\n",
       "      <td>GB</td>\n",
       "      <td>failed</td>\n",
       "      <td>3404.17</td>\n",
       "      <td>conceptual art</td>\n",
       "      <td>30</td>\n",
       "    </tr>\n",
       "    <tr>\n",
       "      <th>1</th>\n",
       "      <td>music</td>\n",
       "      <td>US</td>\n",
       "      <td>successful</td>\n",
       "      <td>420.00</td>\n",
       "      <td>rock</td>\n",
       "      <td>35</td>\n",
       "    </tr>\n",
       "    <tr>\n",
       "      <th>2</th>\n",
       "      <td>art</td>\n",
       "      <td>US</td>\n",
       "      <td>successful</td>\n",
       "      <td>1600.00</td>\n",
       "      <td>conceptual art</td>\n",
       "      <td>25</td>\n",
       "    </tr>\n",
       "    <tr>\n",
       "      <th>3</th>\n",
       "      <td>crafts</td>\n",
       "      <td>US</td>\n",
       "      <td>successful</td>\n",
       "      <td>3000.00</td>\n",
       "      <td>diy</td>\n",
       "      <td>15</td>\n",
       "    </tr>\n",
       "    <tr>\n",
       "      <th>4</th>\n",
       "      <td>comics</td>\n",
       "      <td>US</td>\n",
       "      <td>successful</td>\n",
       "      <td>1.00</td>\n",
       "      <td>graphic novels</td>\n",
       "      <td>12</td>\n",
       "    </tr>\n",
       "  </tbody>\n",
       "</table>\n",
       "</div>"
      ],
      "text/plain": [
       "  category country       state  goal_usd    sub_category  \\\n",
       "0      art      GB      failed   3404.17  conceptual art   \n",
       "1    music      US  successful    420.00            rock   \n",
       "2      art      US  successful   1600.00  conceptual art   \n",
       "3   crafts      US  successful   3000.00             diy   \n",
       "4   comics      US  successful      1.00  graphic novels   \n",
       "\n",
       "   campaign_duration_in_days  \n",
       "0                         30  \n",
       "1                         35  \n",
       "2                         25  \n",
       "3                         15  \n",
       "4                         12  "
      ]
     },
     "execution_count": 11,
     "metadata": {},
     "output_type": "execute_result"
    }
   ],
   "source": [
    "df.head()"
   ]
  },
  {
   "cell_type": "code",
   "execution_count": 14,
   "id": "7e9d861d",
   "metadata": {},
   "outputs": [],
   "source": [
    "df['state'] = df['state'].map({'successful':1, 'failed':0})"
   ]
  },
  {
   "cell_type": "code",
   "execution_count": 15,
   "id": "73244e28",
   "metadata": {},
   "outputs": [
    {
     "data": {
      "text/html": [
       "<div>\n",
       "<style scoped>\n",
       "    .dataframe tbody tr th:only-of-type {\n",
       "        vertical-align: middle;\n",
       "    }\n",
       "\n",
       "    .dataframe tbody tr th {\n",
       "        vertical-align: top;\n",
       "    }\n",
       "\n",
       "    .dataframe thead th {\n",
       "        text-align: right;\n",
       "    }\n",
       "</style>\n",
       "<table border=\"1\" class=\"dataframe\">\n",
       "  <thead>\n",
       "    <tr style=\"text-align: right;\">\n",
       "      <th></th>\n",
       "      <th>category</th>\n",
       "      <th>country</th>\n",
       "      <th>state</th>\n",
       "      <th>goal_usd</th>\n",
       "      <th>sub_category</th>\n",
       "      <th>campaign_duration_in_days</th>\n",
       "    </tr>\n",
       "  </thead>\n",
       "  <tbody>\n",
       "    <tr>\n",
       "      <th>0</th>\n",
       "      <td>art</td>\n",
       "      <td>GB</td>\n",
       "      <td>0</td>\n",
       "      <td>3404.17</td>\n",
       "      <td>conceptual art</td>\n",
       "      <td>30</td>\n",
       "    </tr>\n",
       "    <tr>\n",
       "      <th>1</th>\n",
       "      <td>music</td>\n",
       "      <td>US</td>\n",
       "      <td>1</td>\n",
       "      <td>420.00</td>\n",
       "      <td>rock</td>\n",
       "      <td>35</td>\n",
       "    </tr>\n",
       "    <tr>\n",
       "      <th>2</th>\n",
       "      <td>art</td>\n",
       "      <td>US</td>\n",
       "      <td>1</td>\n",
       "      <td>1600.00</td>\n",
       "      <td>conceptual art</td>\n",
       "      <td>25</td>\n",
       "    </tr>\n",
       "    <tr>\n",
       "      <th>3</th>\n",
       "      <td>crafts</td>\n",
       "      <td>US</td>\n",
       "      <td>1</td>\n",
       "      <td>3000.00</td>\n",
       "      <td>diy</td>\n",
       "      <td>15</td>\n",
       "    </tr>\n",
       "    <tr>\n",
       "      <th>4</th>\n",
       "      <td>comics</td>\n",
       "      <td>US</td>\n",
       "      <td>1</td>\n",
       "      <td>1.00</td>\n",
       "      <td>graphic novels</td>\n",
       "      <td>12</td>\n",
       "    </tr>\n",
       "  </tbody>\n",
       "</table>\n",
       "</div>"
      ],
      "text/plain": [
       "  category country  state  goal_usd    sub_category  campaign_duration_in_days\n",
       "0      art      GB      0   3404.17  conceptual art                         30\n",
       "1    music      US      1    420.00            rock                         35\n",
       "2      art      US      1   1600.00  conceptual art                         25\n",
       "3   crafts      US      1   3000.00             diy                         15\n",
       "4   comics      US      1      1.00  graphic novels                         12"
      ]
     },
     "execution_count": 15,
     "metadata": {},
     "output_type": "execute_result"
    }
   ],
   "source": [
    "df.head()"
   ]
  },
  {
   "cell_type": "code",
   "execution_count": 19,
   "id": "0e6edb64",
   "metadata": {},
   "outputs": [],
   "source": [
    "df = df.rename(columns={'campaign_duration_in_days':'campaign_duration', \n",
    "                  'goal_usd':'goal_in_usd'})"
   ]
  },
  {
   "cell_type": "code",
   "execution_count": 20,
   "id": "ca169b57",
   "metadata": {},
   "outputs": [
    {
     "data": {
      "text/html": [
       "<div>\n",
       "<style scoped>\n",
       "    .dataframe tbody tr th:only-of-type {\n",
       "        vertical-align: middle;\n",
       "    }\n",
       "\n",
       "    .dataframe tbody tr th {\n",
       "        vertical-align: top;\n",
       "    }\n",
       "\n",
       "    .dataframe thead th {\n",
       "        text-align: right;\n",
       "    }\n",
       "</style>\n",
       "<table border=\"1\" class=\"dataframe\">\n",
       "  <thead>\n",
       "    <tr style=\"text-align: right;\">\n",
       "      <th></th>\n",
       "      <th>category</th>\n",
       "      <th>state</th>\n",
       "      <th>goal_in_usd</th>\n",
       "      <th>sub_category</th>\n",
       "      <th>campaign_duration</th>\n",
       "    </tr>\n",
       "  </thead>\n",
       "  <tbody>\n",
       "    <tr>\n",
       "      <th>0</th>\n",
       "      <td>art</td>\n",
       "      <td>0</td>\n",
       "      <td>3404.17</td>\n",
       "      <td>conceptual art</td>\n",
       "      <td>30</td>\n",
       "    </tr>\n",
       "    <tr>\n",
       "      <th>1</th>\n",
       "      <td>music</td>\n",
       "      <td>1</td>\n",
       "      <td>420.00</td>\n",
       "      <td>rock</td>\n",
       "      <td>35</td>\n",
       "    </tr>\n",
       "    <tr>\n",
       "      <th>2</th>\n",
       "      <td>art</td>\n",
       "      <td>1</td>\n",
       "      <td>1600.00</td>\n",
       "      <td>conceptual art</td>\n",
       "      <td>25</td>\n",
       "    </tr>\n",
       "    <tr>\n",
       "      <th>3</th>\n",
       "      <td>crafts</td>\n",
       "      <td>1</td>\n",
       "      <td>3000.00</td>\n",
       "      <td>diy</td>\n",
       "      <td>15</td>\n",
       "    </tr>\n",
       "    <tr>\n",
       "      <th>4</th>\n",
       "      <td>comics</td>\n",
       "      <td>1</td>\n",
       "      <td>1.00</td>\n",
       "      <td>graphic novels</td>\n",
       "      <td>12</td>\n",
       "    </tr>\n",
       "  </tbody>\n",
       "</table>\n",
       "</div>"
      ],
      "text/plain": [
       "  category  state  goal_in_usd    sub_category  campaign_duration\n",
       "0      art      0      3404.17  conceptual art                 30\n",
       "1    music      1       420.00            rock                 35\n",
       "2      art      1      1600.00  conceptual art                 25\n",
       "3   crafts      1      3000.00             diy                 15\n",
       "4   comics      1         1.00  graphic novels                 12"
      ]
     },
     "execution_count": 20,
     "metadata": {},
     "output_type": "execute_result"
    }
   ],
   "source": [
    "df.head()"
   ]
  },
  {
   "cell_type": "code",
   "execution_count": 21,
   "id": "7c826717",
   "metadata": {},
   "outputs": [],
   "source": [
    "target = 'state'\n",
    "y = df[target]\n",
    "X = df.drop(columns=target)"
   ]
  },
  {
   "cell_type": "code",
   "execution_count": 22,
   "id": "57e12a8d",
   "metadata": {},
   "outputs": [
    {
     "data": {
      "text/html": [
       "<div>\n",
       "<style scoped>\n",
       "    .dataframe tbody tr th:only-of-type {\n",
       "        vertical-align: middle;\n",
       "    }\n",
       "\n",
       "    .dataframe tbody tr th {\n",
       "        vertical-align: top;\n",
       "    }\n",
       "\n",
       "    .dataframe thead th {\n",
       "        text-align: right;\n",
       "    }\n",
       "</style>\n",
       "<table border=\"1\" class=\"dataframe\">\n",
       "  <thead>\n",
       "    <tr style=\"text-align: right;\">\n",
       "      <th></th>\n",
       "      <th>category</th>\n",
       "      <th>goal_in_usd</th>\n",
       "      <th>sub_category</th>\n",
       "      <th>campaign_duration</th>\n",
       "    </tr>\n",
       "  </thead>\n",
       "  <tbody>\n",
       "    <tr>\n",
       "      <th>0</th>\n",
       "      <td>art</td>\n",
       "      <td>3404.17</td>\n",
       "      <td>conceptual art</td>\n",
       "      <td>30</td>\n",
       "    </tr>\n",
       "    <tr>\n",
       "      <th>1</th>\n",
       "      <td>music</td>\n",
       "      <td>420.00</td>\n",
       "      <td>rock</td>\n",
       "      <td>35</td>\n",
       "    </tr>\n",
       "    <tr>\n",
       "      <th>2</th>\n",
       "      <td>art</td>\n",
       "      <td>1600.00</td>\n",
       "      <td>conceptual art</td>\n",
       "      <td>25</td>\n",
       "    </tr>\n",
       "    <tr>\n",
       "      <th>3</th>\n",
       "      <td>crafts</td>\n",
       "      <td>3000.00</td>\n",
       "      <td>diy</td>\n",
       "      <td>15</td>\n",
       "    </tr>\n",
       "    <tr>\n",
       "      <th>4</th>\n",
       "      <td>comics</td>\n",
       "      <td>1.00</td>\n",
       "      <td>graphic novels</td>\n",
       "      <td>12</td>\n",
       "    </tr>\n",
       "    <tr>\n",
       "      <th>...</th>\n",
       "      <td>...</td>\n",
       "      <td>...</td>\n",
       "      <td>...</td>\n",
       "      <td>...</td>\n",
       "    </tr>\n",
       "    <tr>\n",
       "      <th>183669</th>\n",
       "      <td>food</td>\n",
       "      <td>8035.94</td>\n",
       "      <td>drinks</td>\n",
       "      <td>30</td>\n",
       "    </tr>\n",
       "    <tr>\n",
       "      <th>183670</th>\n",
       "      <td>publishing</td>\n",
       "      <td>2500.00</td>\n",
       "      <td>fiction</td>\n",
       "      <td>60</td>\n",
       "    </tr>\n",
       "    <tr>\n",
       "      <th>183671</th>\n",
       "      <td>design</td>\n",
       "      <td>10000.00</td>\n",
       "      <td>product design</td>\n",
       "      <td>31</td>\n",
       "    </tr>\n",
       "    <tr>\n",
       "      <th>183672</th>\n",
       "      <td>comics</td>\n",
       "      <td>1095.29</td>\n",
       "      <td>webcomics</td>\n",
       "      <td>40</td>\n",
       "    </tr>\n",
       "    <tr>\n",
       "      <th>183673</th>\n",
       "      <td>technology</td>\n",
       "      <td>23893.01</td>\n",
       "      <td>software</td>\n",
       "      <td>30</td>\n",
       "    </tr>\n",
       "  </tbody>\n",
       "</table>\n",
       "<p>183674 rows × 4 columns</p>\n",
       "</div>"
      ],
      "text/plain": [
       "          category  goal_in_usd    sub_category  campaign_duration\n",
       "0              art      3404.17  conceptual art                 30\n",
       "1            music       420.00            rock                 35\n",
       "2              art      1600.00  conceptual art                 25\n",
       "3           crafts      3000.00             diy                 15\n",
       "4           comics         1.00  graphic novels                 12\n",
       "...            ...          ...             ...                ...\n",
       "183669        food      8035.94          drinks                 30\n",
       "183670  publishing      2500.00         fiction                 60\n",
       "183671      design     10000.00  product design                 31\n",
       "183672      comics      1095.29       webcomics                 40\n",
       "183673  technology     23893.01        software                 30\n",
       "\n",
       "[183674 rows x 4 columns]"
      ]
     },
     "execution_count": 22,
     "metadata": {},
     "output_type": "execute_result"
    }
   ],
   "source": [
    "X"
   ]
  },
  {
   "cell_type": "code",
   "execution_count": 24,
   "id": "9ea0cd8f",
   "metadata": {},
   "outputs": [],
   "source": [
    "X_train, X_val, y_train, y_val= train_test_split(X, y, test_size = .30, random_state = 42)"
   ]
  },
  {
   "cell_type": "code",
   "execution_count": 25,
   "id": "0d772017",
   "metadata": {},
   "outputs": [],
   "source": [
    "X_train_1 = X_train.copy()\n",
    "X_val_1 = X_val.copy()"
   ]
  },
  {
   "cell_type": "code",
   "execution_count": 26,
   "id": "a863b8f2",
   "metadata": {},
   "outputs": [],
   "source": [
    "# Isolated Columns\n",
    "# Store up the Target Columsn for Label Encoding in Train and Val--- WE WILL PROCESS THESE COLUMNS--\n",
    "# NOT BACK UPS\n",
    "X_train_cat = X_train_1[\"category\"]\n",
    "X_train_sub_cat = X_train_1[\"sub_category\"]\n",
    "X_val_cat = X_val_1[\"category\"]\n",
    "X_val_sub_cat = X_val_1[\"sub_category\"]"
   ]
  },
  {
   "cell_type": "code",
   "execution_count": 27,
   "id": "c0449638",
   "metadata": {},
   "outputs": [],
   "source": [
    "# ACTUAL BACKUPS OF THE TARGET COLUMNS\n",
    "X_train_cat_backup = X_train_1[\"category\"]\n",
    "X_train_sub_cat_backup = X_train_1[\"sub_category\"]\n",
    "X_val_cat_backup = X_val_1[\"category\"]\n",
    "X_val_sub_cat_backup = X_val_1[\"sub_category\"]"
   ]
  },
  {
   "cell_type": "code",
   "execution_count": 28,
   "id": "c05413eb",
   "metadata": {},
   "outputs": [
    {
     "name": "stdout",
     "output_type": "stream",
     "text": [
      "baseline accuracy 0.5859893071420016\n"
     ]
    }
   ],
   "source": [
    "print('baseline accuracy', y.value_counts(normalize=True).max())"
   ]
  },
  {
   "cell_type": "code",
   "execution_count": 29,
   "id": "f25e5499",
   "metadata": {},
   "outputs": [],
   "source": [
    "X_train_cat = X_train_1[\"category\"]\n",
    "X_train_sub_cat = X_train_1[\"sub_category\"]\n",
    "X_val_cat = X_val_1[\"category\"]\n",
    "X_val_sub_cat = X_val_1[\"sub_category\"]"
   ]
  },
  {
   "cell_type": "code",
   "execution_count": 32,
   "id": "c4161070",
   "metadata": {},
   "outputs": [],
   "source": [
    "Encoder = LabelEncoder()"
   ]
  },
  {
   "cell_type": "code",
   "execution_count": 33,
   "id": "e554253d",
   "metadata": {},
   "outputs": [],
   "source": [
    "\n",
    "# Label Encode X_train_cat\n",
    "\n",
    "from sklearn import preprocessing\n",
    "le = preprocessing.LabelEncoder()\n",
    "for column_name in X_train_cat:\n",
    "        if X_train_cat.dtype == object:\n",
    "            X_train_cat = le.fit_transform(X_train_cat)\n",
    "        else:\n",
    "            pass"
   ]
  },
  {
   "cell_type": "code",
   "execution_count": 34,
   "id": "e4eb4b28",
   "metadata": {},
   "outputs": [],
   "source": [
    "# Label Encode X_train_sub_cat \n",
    "\n",
    "from sklearn import preprocessing\n",
    "le = preprocessing.LabelEncoder()\n",
    "for column_name in  X_train_sub_cat:\n",
    "        if  X_train_sub_cat.dtype == object:\n",
    "             X_train_sub_cat = le.fit_transform(X_train_sub_cat)\n",
    "        else:\n",
    "            pass"
   ]
  },
  {
   "cell_type": "code",
   "execution_count": 35,
   "id": "8cbc5985",
   "metadata": {},
   "outputs": [],
   "source": [
    "\n",
    "# X_val_cat\n",
    "\n",
    "from sklearn import preprocessing\n",
    "le = preprocessing.LabelEncoder()\n",
    "for column_name in X_val_cat:\n",
    "        if X_val_cat.dtype == object:\n",
    "            X_val_cat = le.fit_transform(X_val_cat)\n",
    "        else:\n",
    "            pass"
   ]
  },
  {
   "cell_type": "code",
   "execution_count": 36,
   "id": "67e6a168",
   "metadata": {},
   "outputs": [],
   "source": [
    "\n",
    "# X_val_sub_cat\n",
    "from sklearn.preprocessing import LabelEncoder\n",
    "le = LabelEncoder()\n",
    "for column_name in X_val_sub_cat:\n",
    "        if X_val_sub_cat.dtype == object:\n",
    "            X_val_sub_cat = le.fit_transform(X_val_sub_cat)\n",
    "        else:\n",
    "            pass"
   ]
  },
  {
   "cell_type": "code",
   "execution_count": 37,
   "id": "463997d6",
   "metadata": {},
   "outputs": [],
   "source": [
    "\n",
    "X_train[\"category\"] = X_train_cat \n",
    "X_val[\"category\"] = X_val_cat \n",
    "X_train[\"sub_category\"] = X_train_sub_cat\n",
    "X_val[\"sub_category\"] = X_val_sub_cat"
   ]
  },
  {
   "cell_type": "code",
   "execution_count": 38,
   "id": "e0645f04",
   "metadata": {},
   "outputs": [
    {
     "data": {
      "text/plain": [
       "156953     0\n",
       "16117      6\n",
       "89758      4\n",
       "74979     13\n",
       "36238     10\n",
       "          ..\n",
       "119879    10\n",
       "103694    12\n",
       "131932     7\n",
       "146867     6\n",
       "121958     6\n",
       "Name: category, Length: 128571, dtype: int64"
      ]
     },
     "execution_count": 38,
     "metadata": {},
     "output_type": "execute_result"
    }
   ],
   "source": [
    "X_train[\"category\"]"
   ]
  },
  {
   "cell_type": "code",
   "execution_count": 39,
   "id": "21882c09",
   "metadata": {},
   "outputs": [
    {
     "data": {
      "text/plain": [
       "156953     61\n",
       "16117      82\n",
       "89758      21\n",
       "74979     119\n",
       "36238      22\n",
       "         ... \n",
       "119879     63\n",
       "103694    144\n",
       "131932     36\n",
       "146867    128\n",
       "121958    140\n",
       "Name: sub_category, Length: 128571, dtype: int64"
      ]
     },
     "execution_count": 39,
     "metadata": {},
     "output_type": "execute_result"
    }
   ],
   "source": [
    "X_train[\"sub_category\"]"
   ]
  },
  {
   "cell_type": "code",
   "execution_count": 40,
   "id": "39a63372",
   "metadata": {},
   "outputs": [
    {
     "data": {
      "text/plain": [
       "116844     35\n",
       "611        32\n",
       "67876     124\n",
       "137233    110\n",
       "50389      28\n",
       "         ... \n",
       "98964     143\n",
       "154164    141\n",
       "66823      84\n",
       "70912      53\n",
       "177325     34\n",
       "Name: sub_category, Length: 55103, dtype: int64"
      ]
     },
     "execution_count": 40,
     "metadata": {},
     "output_type": "execute_result"
    }
   ],
   "source": [
    "\n",
    "X_val[\"sub_category\"]"
   ]
  },
  {
   "cell_type": "code",
   "execution_count": 41,
   "id": "62431ee4",
   "metadata": {},
   "outputs": [
    {
     "data": {
      "text/plain": [
       "116844     6\n",
       "611        2\n",
       "67876      8\n",
       "137233     7\n",
       "50389     10\n",
       "          ..\n",
       "98964     10\n",
       "154164     2\n",
       "66823     12\n",
       "70912     13\n",
       "177325     6\n",
       "Name: category, Length: 55103, dtype: int64"
      ]
     },
     "execution_count": 41,
     "metadata": {},
     "output_type": "execute_result"
    }
   ],
   "source": [
    "X_val[\"category\"]"
   ]
  },
  {
   "cell_type": "code",
   "execution_count": 42,
   "id": "fdaafd80",
   "metadata": {},
   "outputs": [
    {
     "data": {
      "text/plain": [
       "True"
      ]
     },
     "execution_count": 42,
     "metadata": {},
     "output_type": "execute_result"
    }
   ],
   "source": [
    "len(X_val[\"category\"]) == len(X_val_1[\"category\"])"
   ]
  },
  {
   "cell_type": "code",
   "execution_count": 43,
   "id": "f7794ce8",
   "metadata": {},
   "outputs": [
    {
     "data": {
      "text/plain": [
       "True"
      ]
     },
     "execution_count": 43,
     "metadata": {},
     "output_type": "execute_result"
    }
   ],
   "source": [
    "\n",
    "len(X_val[\"sub_category\"]) == len(X_val_1[\"sub_category\"])"
   ]
  },
  {
   "cell_type": "code",
   "execution_count": 45,
   "id": "3738848d",
   "metadata": {},
   "outputs": [
    {
     "data": {
      "text/plain": [
       "116844             drama\n",
       "611                  diy\n",
       "67876     tabletop games\n",
       "137233       restaurants\n",
       "50389     country & folk\n",
       "               ...      \n",
       "98964        world music\n",
       "154164       woodworking\n",
       "66823         nonfiction\n",
       "70912            gadgets\n",
       "177325       documentary\n",
       "Name: sub_category, Length: 55103, dtype: object"
      ]
     },
     "execution_count": 45,
     "metadata": {},
     "output_type": "execute_result"
    }
   ],
   "source": [
    "# Here are the string columns\n",
    "X_train_cat_backup \n",
    "X_train_sub_cat_backup\n",
    "X_val_cat_backup \n",
    "X_val_sub_cat_backup"
   ]
  },
  {
   "cell_type": "code",
   "execution_count": 46,
   "id": "43665bd8",
   "metadata": {},
   "outputs": [
    {
     "data": {
      "text/plain": [
       "116844     35\n",
       "611        32\n",
       "67876     124\n",
       "137233    110\n",
       "50389      28\n",
       "         ... \n",
       "98964     143\n",
       "154164    141\n",
       "66823      84\n",
       "70912      53\n",
       "177325     34\n",
       "Name: sub_category, Length: 55103, dtype: int64"
      ]
     },
     "execution_count": 46,
     "metadata": {},
     "output_type": "execute_result"
    }
   ],
   "source": [
    "# Here are the number columns\n",
    "X_train[\"category\"] \n",
    "X_val[\"category\"] \n",
    "X_train[\"sub_category\"] \n",
    "X_val[\"sub_category\"]"
   ]
  },
  {
   "cell_type": "code",
   "execution_count": 47,
   "id": "90e869e0",
   "metadata": {},
   "outputs": [],
   "source": [
    "X_val_cat_string = X_val_cat_backup \n",
    "X_val_sub_cat_string = X_val_sub_cat_backup"
   ]
  },
  {
   "cell_type": "code",
   "execution_count": 48,
   "id": "cdd11543",
   "metadata": {},
   "outputs": [
    {
     "data": {
      "text/plain": [
       "116844    film & video\n",
       "611             crafts\n",
       "67876            games\n",
       "137233            food\n",
       "50389            music\n",
       "              ...     \n",
       "98964            music\n",
       "154164          crafts\n",
       "66823       publishing\n",
       "70912       technology\n",
       "177325    film & video\n",
       "Name: category, Length: 55103, dtype: object"
      ]
     },
     "execution_count": 48,
     "metadata": {},
     "output_type": "execute_result"
    }
   ],
   "source": [
    "X_val_cat_backup"
   ]
  },
  {
   "cell_type": "code",
   "execution_count": 49,
   "id": "ce073afe",
   "metadata": {},
   "outputs": [
    {
     "data": {
      "text/plain": [
       "116844     35\n",
       "611        32\n",
       "67876     124\n",
       "137233    110\n",
       "50389      28\n",
       "         ... \n",
       "98964     143\n",
       "154164    141\n",
       "66823      84\n",
       "70912      53\n",
       "177325     34\n",
       "Name: sub_category, Length: 55103, dtype: int64"
      ]
     },
     "execution_count": 49,
     "metadata": {},
     "output_type": "execute_result"
    }
   ],
   "source": [
    "\n",
    "X_val[\"category\"] \n",
    "X_val[\"sub_category\"]"
   ]
  },
  {
   "cell_type": "code",
   "execution_count": 50,
   "id": "3f5b5e28",
   "metadata": {},
   "outputs": [],
   "source": [
    "df_val_match_sub = pd.concat([X_val_sub_cat_string, X_val[\"sub_category\"]], axis = 1)"
   ]
  },
  {
   "cell_type": "code",
   "execution_count": 51,
   "id": "b8ac475d",
   "metadata": {},
   "outputs": [],
   "source": [
    "df_val_match_sub = pd.DataFrame(df_val_match_sub )"
   ]
  },
  {
   "cell_type": "code",
   "execution_count": 52,
   "id": "89af10a4",
   "metadata": {},
   "outputs": [],
   "source": [
    "df_tuple_sub_index = df_val_match_sub.set_index([\"sub_category\"])"
   ]
  },
  {
   "cell_type": "code",
   "execution_count": 53,
   "id": "293a5544",
   "metadata": {},
   "outputs": [
    {
     "data": {
      "text/plain": [
       "list"
      ]
     },
     "execution_count": 53,
     "metadata": {},
     "output_type": "execute_result"
    }
   ],
   "source": [
    "type(list(df_tuple_sub_index.index))"
   ]
  },
  {
   "cell_type": "code",
   "execution_count": 64,
   "id": "d0f34c2c",
   "metadata": {},
   "outputs": [
    {
     "data": {
      "text/html": [
       "<div>\n",
       "<style scoped>\n",
       "    .dataframe tbody tr th:only-of-type {\n",
       "        vertical-align: middle;\n",
       "    }\n",
       "\n",
       "    .dataframe tbody tr th {\n",
       "        vertical-align: top;\n",
       "    }\n",
       "\n",
       "    .dataframe thead th {\n",
       "        text-align: right;\n",
       "    }\n",
       "</style>\n",
       "<table border=\"1\" class=\"dataframe\">\n",
       "  <thead>\n",
       "    <tr style=\"text-align: right;\">\n",
       "      <th></th>\n",
       "      <th>sub_category</th>\n",
       "      <th>sub_category</th>\n",
       "    </tr>\n",
       "  </thead>\n",
       "  <tbody>\n",
       "    <tr>\n",
       "      <th>116844</th>\n",
       "      <td>drama</td>\n",
       "      <td>35</td>\n",
       "    </tr>\n",
       "    <tr>\n",
       "      <th>611</th>\n",
       "      <td>diy</td>\n",
       "      <td>32</td>\n",
       "    </tr>\n",
       "    <tr>\n",
       "      <th>67876</th>\n",
       "      <td>tabletop games</td>\n",
       "      <td>124</td>\n",
       "    </tr>\n",
       "    <tr>\n",
       "      <th>137233</th>\n",
       "      <td>restaurants</td>\n",
       "      <td>110</td>\n",
       "    </tr>\n",
       "    <tr>\n",
       "      <th>50389</th>\n",
       "      <td>country &amp; folk</td>\n",
       "      <td>28</td>\n",
       "    </tr>\n",
       "  </tbody>\n",
       "</table>\n",
       "</div>"
      ],
      "text/plain": [
       "          sub_category  sub_category\n",
       "116844           drama            35\n",
       "611                diy            32\n",
       "67876   tabletop games           124\n",
       "137233     restaurants           110\n",
       "50389   country & folk            28"
      ]
     },
     "execution_count": 64,
     "metadata": {},
     "output_type": "execute_result"
    }
   ],
   "source": [
    "df_val_match_sub.head()"
   ]
  },
  {
   "cell_type": "code",
   "execution_count": 54,
   "id": "30dd131f",
   "metadata": {},
   "outputs": [],
   "source": [
    "sub_cat_labels = list(set(list(df_tuple_sub_index.index)))"
   ]
  },
  {
   "cell_type": "code",
   "execution_count": 55,
   "id": "ad3f9017",
   "metadata": {},
   "outputs": [
    {
     "data": {
      "text/plain": [
       "[('punk', 103),\n",
       " (\"farmer's markets\", 45),\n",
       " ('action', 3),\n",
       " ('indie rock', 63),\n",
       " ('apps', 8),\n",
       " ('footwear', 52),\n",
       " ('academic', 1),\n",
       " ('crochet', 30),\n",
       " ('quilts', 105),\n",
       " ('country & folk', 28),\n",
       " ('embroidery', 38),\n",
       " ('narrative film', 82),\n",
       " ('anthologies', 6),\n",
       " ('couture', 29),\n",
       " ('kids', 68),\n",
       " ('software', 119),\n",
       " ('ceramics', 17),\n",
       " ('woodworking', 141),\n",
       " ('web', 138),\n",
       " ('product design', 101),\n",
       " ('musical', 81),\n",
       " ('architecture', 9),\n",
       " ('restaurants', 110),\n",
       " ('shorts', 116),\n",
       " ('toys', 129),\n",
       " ('farms', 46),\n",
       " ('installations', 64),\n",
       " ('chiptune', 20),\n",
       " ('romance', 113),\n",
       " (\"children's books\", 18),\n",
       " ('rock', 112),\n",
       " ('drama', 35),\n",
       " ('nonfiction', 84),\n",
       " ('family', 43),\n",
       " ('webseries', 140),\n",
       " ('childrenswear', 19),\n",
       " ('fantasy', 44),\n",
       " ('webcomics', 139),\n",
       " ('interactive design', 65),\n",
       " ('knitting', 69),\n",
       " ('video art', 134),\n",
       " ('horror', 60),\n",
       " ('plays', 95),\n",
       " ('sculpture', 115),\n",
       " ('animals', 4),\n",
       " ('typography', 131),\n",
       " ('world music', 143),\n",
       " ('comedy', 23),\n",
       " ('residencies', 109),\n",
       " ('social practice', 118),\n",
       " ('photobooks', 92),\n",
       " ('jazz', 66),\n",
       " ('pottery', 98),\n",
       " ('stationery', 123),\n",
       " ('video', 133),\n",
       " ('workshops', 142),\n",
       " ('science fiction', 114),\n",
       " ('latin', 70),\n",
       " ('pet fashion', 90),\n",
       " ('community gardens', 25),\n",
       " ('public art', 102),\n",
       " ('camera equipment', 15),\n",
       " ('documentary', 34),\n",
       " ('small batch', 117),\n",
       " ('diy electronics', 33),\n",
       " ('events', 39),\n",
       " ('jewelry', 67),\n",
       " ('letterpress', 71),\n",
       " ('nature', 83),\n",
       " ('flight', 50),\n",
       " (nan, 146),\n",
       " ('art books', 10),\n",
       " ('periodicals', 89),\n",
       " ('mixed media', 77),\n",
       " ('radio & podcasts', 107),\n",
       " ('mobile games', 78),\n",
       " ('gaming hardware', 54),\n",
       " ('immersive', 62),\n",
       " ('vegan', 132),\n",
       " ('hip-hop', 59),\n",
       " ('bacon', 12),\n",
       " ('sound', 120),\n",
       " ('performance art', 87),\n",
       " ('hardware', 58),\n",
       " ('people', 86),\n",
       " ('literary journals', 72),\n",
       " ('candles', 16),\n",
       " ('blues', 13),\n",
       " ('diy', 32),\n",
       " ('animation', 5),\n",
       " ('drinks', 36),\n",
       " ('apparel', 7),\n",
       " ('movie theaters', 79),\n",
       " ('video games', 135),\n",
       " ('pop', 97),\n",
       " ('cookbooks', 27),\n",
       " ('accessories', 2),\n",
       " ('wearables', 136),\n",
       " ('textiles', 127),\n",
       " ('faith', 42),\n",
       " ('r&b', 106),\n",
       " ('digital art', 31),\n",
       " ('music videos', 80),\n",
       " ('graphic design', 56),\n",
       " ('graphic novels', 57),\n",
       " ('print', 99),\n",
       " ('live games', 74),\n",
       " ('experimental', 40),\n",
       " ('calendars', 14),\n",
       " ('classical music', 22),\n",
       " ('literary spaces', 73),\n",
       " ('metal', 76),\n",
       " ('places', 93),\n",
       " ('electronic music', 37),\n",
       " ('glass', 55),\n",
       " ('television', 126),\n",
       " ('weaving', 137),\n",
       " ('taxidermy', 125),\n",
       " ('space exploration', 121),\n",
       " ('young adult', 144),\n",
       " ('fiction', 48),\n",
       " ('tabletop games', 124),\n",
       " ('fabrication tools', 41),\n",
       " ('fine art', 49),\n",
       " ('conceptual art', 26),\n",
       " ('illustration', 61),\n",
       " ('3d printing', 0),\n",
       " ('food trucks', 51),\n",
       " ('spaces', 122),\n",
       " ('puzzles', 104),\n",
       " ('thrillers', 128),\n",
       " ('comic books', 24),\n",
       " ('performances', 88),\n",
       " ('painting', 85),\n",
       " ('gadgets', 53),\n",
       " ('makerspaces', 75),\n",
       " ('photo', 91),\n",
       " ('playing cards', 94),\n",
       " ('translations', 130),\n",
       " ('civic design', 21),\n",
       " ('ready-to-wear', 108),\n",
       " ('zines', 145),\n",
       " ('poetry', 96),\n",
       " ('robots', 111),\n",
       " ('festivals', 47),\n",
       " ('printing', 100),\n",
       " ('audio', 11)]"
      ]
     },
     "execution_count": 55,
     "metadata": {},
     "output_type": "execute_result"
    }
   ],
   "source": [
    "sub_cat_labels"
   ]
  },
  {
   "cell_type": "code",
   "execution_count": 56,
   "id": "032dddb0",
   "metadata": {},
   "outputs": [],
   "source": [
    "df_val_match_cat = pd.concat([X_val_cat_backup , X_val[\"category\"]], axis = 1)"
   ]
  },
  {
   "cell_type": "code",
   "execution_count": 57,
   "id": "ea31ed4a",
   "metadata": {},
   "outputs": [],
   "source": [
    "df_val_match_cat = df_val_match_cat.set_index(\"category\")"
   ]
  },
  {
   "cell_type": "code",
   "execution_count": 58,
   "id": "1f6fc01b",
   "metadata": {},
   "outputs": [
    {
     "data": {
      "text/plain": [
       "{('art', 0),\n",
       " ('comics', 1),\n",
       " ('crafts', 2),\n",
       " ('dance', 3),\n",
       " ('design', 4),\n",
       " ('fashion', 5),\n",
       " ('film & video', 6),\n",
       " ('food', 7),\n",
       " ('games', 8),\n",
       " ('journalism', 9),\n",
       " ('music', 10),\n",
       " ('photography', 11),\n",
       " ('publishing', 12),\n",
       " ('technology', 13),\n",
       " ('theater', 14)}"
      ]
     },
     "execution_count": 58,
     "metadata": {},
     "output_type": "execute_result"
    }
   ],
   "source": [
    "set(df_val_match_cat.index)"
   ]
  },
  {
   "cell_type": "code",
   "execution_count": 59,
   "id": "c4fd592a",
   "metadata": {},
   "outputs": [
    {
     "name": "stdout",
     "output_type": "stream",
     "text": [
      "[16:58:15] WARNING: /Users/travis/build/dmlc/xgboost/src/learner.cc:1095: Starting in XGBoost 1.3.0, the default evaluation metric used with the objective 'binary:logistic' was changed from 'error' to 'logloss'. Explicitly set eval_metric if you'd like to restore the old behavior.\n"
     ]
    },
    {
     "data": {
      "text/plain": [
       "Pipeline(steps=[('xgbclassifier',\n",
       "                 XGBClassifier(base_score=0.5, booster='gbtree',\n",
       "                               colsample_bylevel=1, colsample_bynode=1,\n",
       "                               colsample_bytree=1, gamma=0, gpu_id=-1,\n",
       "                               importance_type='gain',\n",
       "                               interaction_constraints='',\n",
       "                               learning_rate=0.300000012, max_delta_step=0,\n",
       "                               max_depth=6, min_child_weight=1, missing=nan,\n",
       "                               monotone_constraints='()', n_estimators=100,\n",
       "                               n_jobs=-1, num_parallel_tree=1, random_state=42,\n",
       "                               reg_alpha=0, reg_lambda=1, scale_pos_weight=1,\n",
       "                               subsample=1, tree_method='exact',\n",
       "                               validate_parameters=1, verbosity=None))])"
      ]
     },
     "execution_count": 59,
     "metadata": {},
     "output_type": "execute_result"
    }
   ],
   "source": [
    "#out of the box random forest model \n",
    "model_xgb = make_pipeline(\n",
    "    XGBClassifier(random_state=42,n_jobs=-1)\n",
    ")\n",
    "\n",
    "model_xgb.fit(X_train,y_train)"
   ]
  },
  {
   "cell_type": "code",
   "execution_count": 60,
   "id": "31c37fd4",
   "metadata": {},
   "outputs": [
    {
     "name": "stdout",
     "output_type": "stream",
     "text": [
      "Training Accuracy: 0.7936548677384481\n",
      "Validation Accuracy: 0.7794493947697948\n"
     ]
    }
   ],
   "source": [
    "print('Training Accuracy:', model_xgb.score(X_train,y_train))\n",
    "print('Validation Accuracy:', model_xgb.score(X_val, y_val))"
   ]
  },
  {
   "cell_type": "code",
   "execution_count": 65,
   "id": "de009f2b",
   "metadata": {},
   "outputs": [
    {
     "name": "stdout",
     "output_type": "stream",
     "text": [
      "[17:45:12] WARNING: /Users/travis/build/dmlc/xgboost/src/learner.cc:1095: Starting in XGBoost 1.3.0, the default evaluation metric used with the objective 'binary:logistic' was changed from 'error' to 'logloss'. Explicitly set eval_metric if you'd like to restore the old behavior.\n"
     ]
    }
   ],
   "source": [
    "model2_xgb = XGBClassifier()\n",
    "learning_rates = [0.1,0.3,0.5,0.7,0.9,1]\n",
    "n_estimators = randint(50,500)\n",
    "max_depth = [3,5,10,15,20,None]\n",
    "min_child_weights = [1,2,5,10,20]\n",
    "subsamples = [0.5,0.7,0.8,1]\n",
    "grid = dict(learning_rate = learning_rates, n_estimators = n_estimators, min_child_weight = min_child_weights, subsample = subsamples)\n",
    "cv = RepeatedStratifiedKFold(n_splits=10, n_repeats=3, random_state=42)\n",
    "grid_search = RandomizedSearchCV(estimator=model2_xgb, param_distributions=grid, n_jobs = -1, cv=cv, scoring='accuracy', error_score=0)\n",
    "grid_result = grid_search.fit(X_train, y_train)"
   ]
  },
  {
   "cell_type": "code",
   "execution_count": 66,
   "id": "7aad647b",
   "metadata": {},
   "outputs": [
    {
     "data": {
      "text/plain": [
       "{'learning_rate': 0.1,\n",
       " 'min_child_weight': 5,\n",
       " 'n_estimators': 340,\n",
       " 'subsample': 0.7}"
      ]
     },
     "execution_count": 66,
     "metadata": {},
     "output_type": "execute_result"
    }
   ],
   "source": [
    "grid_search.best_params_"
   ]
  },
  {
   "cell_type": "code",
   "execution_count": 67,
   "id": "31ffc277",
   "metadata": {},
   "outputs": [
    {
     "name": "stdout",
     "output_type": "stream",
     "text": [
      "Training Accuracy: 0.7948837607236469\n",
      "Validation Accuracy: 0.7787597771446201\n"
     ]
    }
   ],
   "source": [
    "print('Training Accuracy:', grid_search.score(X_train, y_train))\n",
    "print('Validation Accuracy:', grid_search.score(X_val,y_val))"
   ]
  },
  {
   "cell_type": "code",
   "execution_count": 68,
   "id": "406f5ea9",
   "metadata": {},
   "outputs": [],
   "source": [
    "bestimator_xgb = grid_search.best_estimator_"
   ]
  },
  {
   "cell_type": "code",
   "execution_count": 69,
   "id": "c7e8ebee",
   "metadata": {},
   "outputs": [],
   "source": [
    "perm_imp = permutation_importance(bestimator_xgb, X_val, y_val, random_state=42)"
   ]
  },
  {
   "cell_type": "code",
   "execution_count": 70,
   "id": "b80161b0",
   "metadata": {},
   "outputs": [],
   "source": [
    "data = {'imp_mean':perm_imp['importances_mean'],\n",
    "        'imp_std':perm_imp['importances_std']}\n",
    "df_perm = pd.DataFrame(data, index=X_val.columns).sort_values(by='imp_mean')"
   ]
  },
  {
   "cell_type": "code",
   "execution_count": 71,
   "id": "38380954",
   "metadata": {},
   "outputs": [
    {
     "data": {
      "text/plain": [
       "Text(0.5, 0, 'Permutation Importance for Tuned XGB Classifier')"
      ]
     },
     "execution_count": 71,
     "metadata": {},
     "output_type": "execute_result"
    },
    {
     "data": {
      "image/png": "[encoded data removed]",
      "text/plain": [
       "<Figure size 432x288 with 1 Axes>"
      ]
     },
     "metadata": {
      "needs_background": "light"
     },
     "output_type": "display_data"
    }
   ],
   "source": [
    "df_perm['imp_mean'].tail(10).plot(kind='barh')\n",
    "plt.xlabel('Permutation Importance for Tuned XGB Classifier')"
   ]
  },
  {
   "cell_type": "code",
   "execution_count": 72,
   "id": "9a6100c0",
   "metadata": {},
   "outputs": [
    {
     "data": {
      "text/plain": [
       "<sklearn.metrics._plot.confusion_matrix.ConfusionMatrixDisplay at 0x7fa003925400>"
      ]
     },
     "execution_count": 72,
     "metadata": {},
     "output_type": "execute_result"
    },
    {
     "data": {
      "image/png": "[encoded data removed]",
      "text/plain": [
       "<Figure size 432x288 with 2 Axes>"
      ]
     },
     "metadata": {
      "needs_background": "light"
     },
     "output_type": "display_data"
    }
   ],
   "source": [
    "plot_confusion_matrix(bestimator_xgb, X_val,y_val, display_labels=['failed', 'successful'], values_format='.0f')"
   ]
  },
  {
   "cell_type": "code",
   "execution_count": 74,
   "id": "c0bea9fe",
   "metadata": {},
   "outputs": [
    {
     "data": {
      "text/plain": [
       "(<Figure size 540x684 with 3 Axes>,\n",
       " {'title_ax': <matplotlib.axes._subplots.AxesSubplot at 0x7fa002d8d700>,\n",
       "  'pdp_inter_ax': <matplotlib.axes._subplots.AxesSubplot at 0x7fa004a22640>})"
      ]
     },
     "execution_count": 74,
     "metadata": {},
     "output_type": "execute_result"
    },
    {
     "data": {
      "image/png": "[encoded data removed]",
      "text/plain": [
       "<Figure size 540x684 with 3 Axes>"
      ]
     },
     "metadata": {
      "needs_background": "light"
     },
     "output_type": "display_data"
    }
   ],
   "source": [
    "features = ['goal_in_usd', 'campaign_duration']\n",
    "interact = pdp_interact(bestimator_xgb,\n",
    "                        dataset = X_val,\n",
    "                        model_features = X.columns,\n",
    "                        features=features)\n",
    "\n",
    "pdp_interact_plot(interact, plot_type='grid', feature_names=features)"
   ]
  },
  {
   "cell_type": "code",
   "execution_count": 75,
   "id": "087aefd5",
   "metadata": {},
   "outputs": [],
   "source": [
    "#saving best model\n",
    "import pickle\n",
    "saved_model_xgb = pickle.dumps(bestimator_xgb)"
   ]
  },
  {
   "cell_type": "code",
   "execution_count": 76,
   "id": "7dacb22f",
   "metadata": {},
   "outputs": [
    {
     "data": {
      "text/plain": [
       "['xgb_model']"
      ]
     },
     "execution_count": 76,
     "metadata": {},
     "output_type": "execute_result"
    }
   ],
   "source": [
    "import joblib\n",
    "joblib_file = 'joblib_bestimator_XGB.pkl'\n",
    "joblib.dump(bestimator_xgb,'xgb_model')"
   ]
  },
  {
   "cell_type": "code",
   "execution_count": null,
   "id": "b3beb589",
   "metadata": {},
   "outputs": [],
   "source": [
    "def predict(category, campaign_duration,\n",
    "            goal_in_usd, sub_category):\n",
    "    # backers_count, category, campaign_duration,\n",
    "    # goal_in_usd, blurb_length, sub_category, usd_pledged,\n",
    "    df = pd.DataFrame(columns=[\"category\", \"campaign_duration\",\n",
    "                               \"goal_in_usd\", \"sub_category\"],\n",
    "                      data=[[category, campaign_duration,\n",
    "                             goal_in_usd, sub_category]])\n",
    "    y_pred = model.predict(df)[0]\n",
    "    y_pred_prob = model.predict_proba(df)[0] * 100\n",
    "    if y_pred == 1:\n",
    "        return \"You Are {}% Likely to Succeed.\".format(round(y_pred_prob[1], 2))\n",
    "    else:\n",
    "        return \"You Are {}% Likely to Fail.\".format(round(y_pred_prob[1], 2))"
   ]
  },
  {
   "cell_type": "code",
   "execution_count": 131,
   "id": "86eda423",
   "metadata": {},
   "outputs": [],
   "source": [
    "df3 = pd.DataFrame(columns=[\"category\", \"goal_in_usd\",\n",
    "                            \"sub_category\", \"campaign_duration\"],\n",
    "                      data=[[13, 8200.71,\n",
    "                             119, 55]])"
   ]
  },
  {
   "cell_type": "code",
   "execution_count": 112,
   "id": "1a83be1a",
   "metadata": {},
   "outputs": [
    {
     "data": {
      "text/html": [
       "<div>\n",
       "<style scoped>\n",
       "    .dataframe tbody tr th:only-of-type {\n",
       "        vertical-align: middle;\n",
       "    }\n",
       "\n",
       "    .dataframe tbody tr th {\n",
       "        vertical-align: top;\n",
       "    }\n",
       "\n",
       "    .dataframe thead th {\n",
       "        text-align: right;\n",
       "    }\n",
       "</style>\n",
       "<table border=\"1\" class=\"dataframe\">\n",
       "  <thead>\n",
       "    <tr style=\"text-align: right;\">\n",
       "      <th></th>\n",
       "      <th>category</th>\n",
       "      <th>campaign_duration</th>\n",
       "      <th>goal_in_usd</th>\n",
       "      <th>sub_category</th>\n",
       "    </tr>\n",
       "  </thead>\n",
       "  <tbody>\n",
       "    <tr>\n",
       "      <th>0</th>\n",
       "      <td>2</td>\n",
       "      <td>100</td>\n",
       "      <td>1000</td>\n",
       "      <td>16</td>\n",
       "    </tr>\n",
       "  </tbody>\n",
       "</table>\n",
       "</div>"
      ],
      "text/plain": [
       "   category  campaign_duration  goal_in_usd  sub_category\n",
       "0         2                100         1000            16"
      ]
     },
     "execution_count": 112,
     "metadata": {},
     "output_type": "execute_result"
    }
   ],
   "source": [
    "df3.head()"
   ]
  },
  {
   "cell_type": "code",
   "execution_count": 132,
   "id": "af129534",
   "metadata": {},
   "outputs": [
    {
     "data": {
      "text/plain": [
       "array([0])"
      ]
     },
     "execution_count": 132,
     "metadata": {},
     "output_type": "execute_result"
    }
   ],
   "source": [
    "bestimator_xgb.predict(df3)\n"
   ]
  },
  {
   "cell_type": "code",
   "execution_count": 139,
   "id": "92e01ea3",
   "metadata": {},
   "outputs": [
    {
     "data": {
      "text/plain": [
       "array([75.880974, 24.119024], dtype=float32)"
      ]
     },
     "execution_count": 139,
     "metadata": {},
     "output_type": "execute_result"
    }
   ],
   "source": [
    "bestimator_xgb.predict_proba(df3)[0]*100"
   ]
  },
  {
   "cell_type": "code",
   "execution_count": 140,
   "id": "aec5941e",
   "metadata": {},
   "outputs": [],
   "source": [
    "y_pred_prob = bestimator_xgb.predict_proba(df3)[0]*100"
   ]
  },
  {
   "cell_type": "code",
   "execution_count": 144,
   "id": "18e95cfb",
   "metadata": {},
   "outputs": [
    {
     "data": {
      "text/plain": [
       "75.88"
      ]
     },
     "execution_count": 144,
     "metadata": {},
     "output_type": "execute_result"
    }
   ],
   "source": [
    "np.round(y_pred_prob[0],2)"
   ]
  },
  {
   "cell_type": "code",
   "execution_count": 121,
   "id": "2ab986c6",
   "metadata": {},
   "outputs": [
    {
     "data": {
      "text/plain": [
       "array([1])"
      ]
     },
     "execution_count": 121,
     "metadata": {},
     "output_type": "execute_result"
    }
   ],
   "source": [
    "model_xgb.predict(df3)"
   ]
  },
  {
   "cell_type": "code",
   "execution_count": 123,
   "id": "fe8b6853",
   "metadata": {},
   "outputs": [
    {
     "data": {
      "text/html": [
       "<div>\n",
       "<style scoped>\n",
       "    .dataframe tbody tr th:only-of-type {\n",
       "        vertical-align: middle;\n",
       "    }\n",
       "\n",
       "    .dataframe tbody tr th {\n",
       "        vertical-align: top;\n",
       "    }\n",
       "\n",
       "    .dataframe thead th {\n",
       "        text-align: right;\n",
       "    }\n",
       "</style>\n",
       "<table border=\"1\" class=\"dataframe\">\n",
       "  <thead>\n",
       "    <tr style=\"text-align: right;\">\n",
       "      <th></th>\n",
       "      <th>category</th>\n",
       "      <th>goal_in_usd</th>\n",
       "      <th>sub_category</th>\n",
       "      <th>campaign_duration</th>\n",
       "    </tr>\n",
       "  </thead>\n",
       "  <tbody>\n",
       "    <tr>\n",
       "      <th>156953</th>\n",
       "      <td>0</td>\n",
       "      <td>300.00</td>\n",
       "      <td>61</td>\n",
       "      <td>7</td>\n",
       "    </tr>\n",
       "    <tr>\n",
       "      <th>16117</th>\n",
       "      <td>6</td>\n",
       "      <td>85000.00</td>\n",
       "      <td>82</td>\n",
       "      <td>45</td>\n",
       "    </tr>\n",
       "    <tr>\n",
       "      <th>89758</th>\n",
       "      <td>4</td>\n",
       "      <td>15000.00</td>\n",
       "      <td>21</td>\n",
       "      <td>28</td>\n",
       "    </tr>\n",
       "    <tr>\n",
       "      <th>74979</th>\n",
       "      <td>13</td>\n",
       "      <td>8200.71</td>\n",
       "      <td>119</td>\n",
       "      <td>55</td>\n",
       "    </tr>\n",
       "    <tr>\n",
       "      <th>36238</th>\n",
       "      <td>10</td>\n",
       "      <td>500.00</td>\n",
       "      <td>22</td>\n",
       "      <td>15</td>\n",
       "    </tr>\n",
       "    <tr>\n",
       "      <th>...</th>\n",
       "      <td>...</td>\n",
       "      <td>...</td>\n",
       "      <td>...</td>\n",
       "      <td>...</td>\n",
       "    </tr>\n",
       "    <tr>\n",
       "      <th>119879</th>\n",
       "      <td>10</td>\n",
       "      <td>4500.00</td>\n",
       "      <td>63</td>\n",
       "      <td>30</td>\n",
       "    </tr>\n",
       "    <tr>\n",
       "      <th>103694</th>\n",
       "      <td>12</td>\n",
       "      <td>800.00</td>\n",
       "      <td>144</td>\n",
       "      <td>30</td>\n",
       "    </tr>\n",
       "    <tr>\n",
       "      <th>131932</th>\n",
       "      <td>7</td>\n",
       "      <td>1500.00</td>\n",
       "      <td>36</td>\n",
       "      <td>60</td>\n",
       "    </tr>\n",
       "    <tr>\n",
       "      <th>146867</th>\n",
       "      <td>6</td>\n",
       "      <td>25000.00</td>\n",
       "      <td>128</td>\n",
       "      <td>30</td>\n",
       "    </tr>\n",
       "    <tr>\n",
       "      <th>121958</th>\n",
       "      <td>6</td>\n",
       "      <td>500.00</td>\n",
       "      <td>140</td>\n",
       "      <td>13</td>\n",
       "    </tr>\n",
       "  </tbody>\n",
       "</table>\n",
       "<p>128571 rows × 4 columns</p>\n",
       "</div>"
      ],
      "text/plain": [
       "        category  goal_in_usd  sub_category  campaign_duration\n",
       "156953         0       300.00            61                  7\n",
       "16117          6     85000.00            82                 45\n",
       "89758          4     15000.00            21                 28\n",
       "74979         13      8200.71           119                 55\n",
       "36238         10       500.00            22                 15\n",
       "...          ...          ...           ...                ...\n",
       "119879        10      4500.00            63                 30\n",
       "103694        12       800.00           144                 30\n",
       "131932         7      1500.00            36                 60\n",
       "146867         6     25000.00           128                 30\n",
       "121958         6       500.00           140                 13\n",
       "\n",
       "[128571 rows x 4 columns]"
      ]
     },
     "execution_count": 123,
     "metadata": {},
     "output_type": "execute_result"
    }
   ],
   "source": [
    "X_train"
   ]
  },
  {
   "cell_type": "code",
   "execution_count": 130,
   "id": "151e14b8",
   "metadata": {},
   "outputs": [
    {
     "data": {
      "text/plain": [
       "156953    1\n",
       "16117     1\n",
       "89758     1\n",
       "74979     0\n",
       "36238     1\n",
       "         ..\n",
       "119879    1\n",
       "103694    0\n",
       "131932    0\n",
       "146867    1\n",
       "121958    1\n",
       "Name: state, Length: 128571, dtype: int64"
      ]
     },
     "execution_count": 130,
     "metadata": {},
     "output_type": "execute_result"
    }
   ],
   "source": [
    "y_train"
   ]
  },
  {
   "cell_type": "code",
   "execution_count": null,
   "id": "cc5a9353",
   "metadata": {},
   "outputs": [],
   "source": []
  }
 ],
 "metadata": {
  "kernelspec": {
   "display_name": "Python 3",
   "language": "python",
   "name": "python3"
  },
  "language_info": {
   "codemirror_mode": {
    "name": "ipython",
    "version": 3
   },
   "file_extension": ".py",
   "mimetype": "text/x-python",
   "name": "python",
   "nbconvert_exporter": "python",
   "pygments_lexer": "ipython3",
   "version": "3.8.8"
  }
 },
 "nbformat": 4,
 "nbformat_minor": 5
}
